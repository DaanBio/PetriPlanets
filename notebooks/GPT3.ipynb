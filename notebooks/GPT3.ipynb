{
 "cells": [
  {
   "cell_type": "code",
   "execution_count": 73,
   "id": "94abae94-ea06-4b7a-8c65-897fd031edc6",
   "metadata": {},
   "outputs": [],
   "source": [
    "import openai\n",
    "import pandas as pd\n",
    "import random\n",
    "from tqdm import tqdm"
   ]
  },
  {
   "cell_type": "code",
   "execution_count": 76,
   "id": "737e04ee-f30c-46ed-a7bf-3d239057cec9",
   "metadata": {},
   "outputs": [],
   "source": [
    "def gpt3(prompt_text):\n",
    "    openai.api_key=''\n",
    "    response = openai.Completion.create(\n",
    "        engine=\"text-davinci-002\",\n",
    "        prompt=prompt_text,\n",
    "            temperature=0.95,\n",
    "            max_tokens=200,\n",
    "            top_p=1,\n",
    "            frequency_penalty=0,\n",
    "            presence_penalty=0\n",
    "    )\n",
    "    content = response.choices[0].text.split('.')\n",
    "    return response.choices[0].text"
   ]
  },
  {
   "cell_type": "code",
   "execution_count": 75,
   "id": "c92bf0b5-d537-4350-9c8f-f2609841ee5f",
   "metadata": {},
   "outputs": [
    {
     "name": "stdout",
     "output_type": "stream",
     "text": [
      "\n",
      "\n",
      "In this universe, there are no laws of physics as we know them. Instead, the planets follow their own set of rules that governs how they move and interact with one another. This makes for a very interesting and unpredictable place to explore. So buckle up and get ready for an adventure!\n"
     ]
    }
   ],
   "source": [
    "query=\"Finish the follwoing introduction: You are about to embark on a journey through a universe created by planets made out of petridishes.\"\n",
    "res=gpt3(query)\n",
    "print(res)"
   ]
  },
  {
   "cell_type": "code",
   "execution_count": 63,
   "id": "f791a0a5-583d-4ca7-b783-555f58ac9c69",
   "metadata": {},
   "outputs": [],
   "source": [
    "df_prompts=pd.read_excel(\"C:/Users/12599/PetriPlanets/PetriPlanets/prompts.xlsx\")\n",
    "df_names=pd.read_excel(\"C:/Users/12599/PetriPlanets/PetriPlanets/database.xlsx\")"
   ]
  },
  {
   "cell_type": "code",
   "execution_count": 67,
   "id": "a777f7ab-d25a-4beb-a529-fbfa48075672",
   "metadata": {},
   "outputs": [
    {
     "name": "stderr",
     "output_type": "stream",
     "text": [
      "100%|██████████| 19/19 [01:07<00:00,  3.54s/it]\n"
     ]
    }
   ],
   "source": [
    "story_list=[]\n",
    "for i in tqdm(range(df_names.shape[0])):\n",
    "    randnum=random.randint(0, (df_prompts.shape[0]-1))\n",
    "    name=df_names['Name'][i]\n",
    "    prompt=f\"{df_prompts.prompts[randnum]} {name}.\"\n",
    "    story_list_temp=gpt3(prompt)\n",
    "    story_list.append(story_list_temp)   \n",
    "    "
   ]
  },
  {
   "cell_type": "code",
   "execution_count": 69,
   "id": "3c5ea347-1982-4167-a3a7-6e62351d64c4",
   "metadata": {},
   "outputs": [
    {
     "data": {
      "text/html": [
       "<div>\n",
       "<style scoped>\n",
       "    .dataframe tbody tr th:only-of-type {\n",
       "        vertical-align: middle;\n",
       "    }\n",
       "\n",
       "    .dataframe tbody tr th {\n",
       "        vertical-align: top;\n",
       "    }\n",
       "\n",
       "    .dataframe thead th {\n",
       "        text-align: right;\n",
       "    }\n",
       "</style>\n",
       "<table border=\"1\" class=\"dataframe\">\n",
       "  <thead>\n",
       "    <tr style=\"text-align: right;\">\n",
       "      <th></th>\n",
       "      <th>stories</th>\n",
       "    </tr>\n",
       "  </thead>\n",
       "  <tbody>\n",
       "    <tr>\n",
       "      <th>0</th>\n",
       "      <td>\\n\\n planet Primus is rich in natural resource...</td>\n",
       "    </tr>\n",
       "    <tr>\n",
       "      <th>1</th>\n",
       "      <td>\\n\\nWhen arriving at planet Loro, you would se...</td>\n",
       "    </tr>\n",
       "    <tr>\n",
       "      <th>2</th>\n",
       "      <td>\\n\\n planet Azularus \\n Azularus is a beautifu...</td>\n",
       "    </tr>\n",
       "    <tr>\n",
       "      <th>3</th>\n",
       "      <td>\\n\\nThe first sightings of planet Difussis wer...</td>\n",
       "    </tr>\n",
       "    <tr>\n",
       "      <th>4</th>\n",
       "      <td>\\n\\nEmpiso is a planet made of music\\nIt's a p...</td>\n",
       "    </tr>\n",
       "  </tbody>\n",
       "</table>\n",
       "</div>"
      ],
      "text/plain": [
       "                                             stories\n",
       "0  \\n\\n planet Primus is rich in natural resource...\n",
       "1  \\n\\nWhen arriving at planet Loro, you would se...\n",
       "2  \\n\\n planet Azularus \\n Azularus is a beautifu...\n",
       "3  \\n\\nThe first sightings of planet Difussis wer...\n",
       "4  \\n\\nEmpiso is a planet made of music\\nIt's a p..."
      ]
     },
     "execution_count": 69,
     "metadata": {},
     "output_type": "execute_result"
    }
   ],
   "source": [
    "df_stories=pd.DataFrame({'stories':story_list})\n",
    "df_stories.head()"
   ]
  },
  {
   "cell_type": "code",
   "execution_count": 70,
   "id": "4a337a2b-f644-4fa6-8efc-f84f6ec0468a",
   "metadata": {},
   "outputs": [
    {
     "data": {
      "text/html": [
       "<div>\n",
       "<style scoped>\n",
       "    .dataframe tbody tr th:only-of-type {\n",
       "        vertical-align: middle;\n",
       "    }\n",
       "\n",
       "    .dataframe tbody tr th {\n",
       "        vertical-align: top;\n",
       "    }\n",
       "\n",
       "    .dataframe thead th {\n",
       "        text-align: right;\n",
       "    }\n",
       "</style>\n",
       "<table border=\"1\" class=\"dataframe\">\n",
       "  <thead>\n",
       "    <tr style=\"text-align: right;\">\n",
       "      <th></th>\n",
       "      <th>Name</th>\n",
       "      <th>url</th>\n",
       "      <th>stories</th>\n",
       "    </tr>\n",
       "  </thead>\n",
       "  <tbody>\n",
       "    <tr>\n",
       "      <th>0</th>\n",
       "      <td>Primus</td>\n",
       "      <td>https://lh6.googleusercontent.com/4_6VgpOtMCGb...</td>\n",
       "      <td>\\n\\n planet Primus is rich in natural resource...</td>\n",
       "    </tr>\n",
       "    <tr>\n",
       "      <th>1</th>\n",
       "      <td>Loro</td>\n",
       "      <td>https://lh6.googleusercontent.com/R0eedPM0svvA...</td>\n",
       "      <td>\\n\\nWhen arriving at planet Loro, you would se...</td>\n",
       "    </tr>\n",
       "    <tr>\n",
       "      <th>2</th>\n",
       "      <td>Azularus</td>\n",
       "      <td>https://lh3.googleusercontent.com/OPnNlQFdUQB3...</td>\n",
       "      <td>\\n\\n planet Azularus \\n Azularus is a beautifu...</td>\n",
       "    </tr>\n",
       "    <tr>\n",
       "      <th>3</th>\n",
       "      <td>Difussis</td>\n",
       "      <td>https://lh4.googleusercontent.com/wgct8uFtyPAT...</td>\n",
       "      <td>\\n\\nThe first sightings of planet Difussis wer...</td>\n",
       "    </tr>\n",
       "    <tr>\n",
       "      <th>4</th>\n",
       "      <td>Empiso</td>\n",
       "      <td>https://lh4.googleusercontent.com/EoJtqlLuPt6H...</td>\n",
       "      <td>\\n\\nEmpiso is a planet made of music\\nIt's a p...</td>\n",
       "    </tr>\n",
       "  </tbody>\n",
       "</table>\n",
       "</div>"
      ],
      "text/plain": [
       "       Name                                                url  \\\n",
       "0    Primus  https://lh6.googleusercontent.com/4_6VgpOtMCGb...   \n",
       "1      Loro  https://lh6.googleusercontent.com/R0eedPM0svvA...   \n",
       "2  Azularus  https://lh3.googleusercontent.com/OPnNlQFdUQB3...   \n",
       "3  Difussis  https://lh4.googleusercontent.com/wgct8uFtyPAT...   \n",
       "4    Empiso  https://lh4.googleusercontent.com/EoJtqlLuPt6H...   \n",
       "\n",
       "                                             stories  \n",
       "0  \\n\\n planet Primus is rich in natural resource...  \n",
       "1  \\n\\nWhen arriving at planet Loro, you would se...  \n",
       "2  \\n\\n planet Azularus \\n Azularus is a beautifu...  \n",
       "3  \\n\\nThe first sightings of planet Difussis wer...  \n",
       "4  \\n\\nEmpiso is a planet made of music\\nIt's a p...  "
      ]
     },
     "execution_count": 70,
     "metadata": {},
     "output_type": "execute_result"
    }
   ],
   "source": [
    "df=pd.concat([df_names, df_stories], axis=1)\n",
    "df.head()"
   ]
  },
  {
   "cell_type": "code",
   "execution_count": 72,
   "id": "d3570491-7638-4d25-9f6b-c468c4359744",
   "metadata": {},
   "outputs": [],
   "source": [
    "df.to_excel(\"C:/Users/12599/PetriPlanets/PetriPlanets/database2.xlsx\")"
   ]
  },
  {
   "cell_type": "code",
   "execution_count": 55,
   "id": "cf56e580-56e4-4942-9f7a-b734fbe64e03",
   "metadata": {},
   "outputs": [],
   "source": [
    "query=\"Sing  me a song about 4 guys, Jan, Jochem, Lewis, and Tos, who were searching for fossiled seaurchins on the Northern beaches of France.\""
   ]
  },
  {
   "cell_type": "code",
   "execution_count": 56,
   "id": "501f8e4b-6d13-4af9-88b2-7b3fb01cb562",
   "metadata": {},
   "outputs": [
    {
     "name": "stdout",
     "output_type": "stream",
     "text": [
      "\n",
      "\n",
      "The four guys, Jan, Jochem, Lewis, and Tos,\n",
      "were searching for fossilized sea urchins on the northern beaches of France.\n",
      "They were looking for a particular type of sea urchin that was known to be in the area.\n",
      "They had been searching for a while and were getting tired.\n",
      "Finally, they found what they were looking for.\n",
      "They were excited to find the fossils and excited to be able to show them to the world.\n"
     ]
    }
   ],
   "source": [
    "response = gpt3(query)\n",
    "print(response)"
   ]
  },
  {
   "cell_type": "code",
   "execution_count": null,
   "id": "7e783e1e-d64c-47be-b148-c72f54d27924",
   "metadata": {},
   "outputs": [],
   "source": []
  }
 ],
 "metadata": {
  "kernelspec": {
   "display_name": "Python 3 (ipykernel)",
   "language": "python",
   "name": "python3"
  },
  "language_info": {
   "codemirror_mode": {
    "name": "ipython",
    "version": 3
   },
   "file_extension": ".py",
   "mimetype": "text/x-python",
   "name": "python",
   "nbconvert_exporter": "python",
   "pygments_lexer": "ipython3",
   "version": "3.9.13"
  }
 },
 "nbformat": 4,
 "nbformat_minor": 5
}
