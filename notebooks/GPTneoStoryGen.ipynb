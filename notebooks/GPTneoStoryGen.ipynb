{
 "cells": [
  {
   "cell_type": "code",
   "execution_count": 2,
   "id": "7c254840-3806-4f95-a35d-d20edd687a24",
   "metadata": {},
   "outputs": [],
   "source": [
    "from transformers import pipeline"
   ]
  },
  {
   "cell_type": "code",
   "execution_count": 3,
   "id": "3fc98c1f-8844-4cfb-90f5-4da23edbca4e",
   "metadata": {},
   "outputs": [
    {
     "name": "stderr",
     "output_type": "stream",
     "text": [
      "Downloading: 100%|██████████| 1.46k/1.46k [00:00<00:00, 822kB/s]\n",
      "C:\\Users\\12599\\anaconda3\\envs\\PetriPlanet\\lib\\site-packages\\huggingface_hub\\file_download.py:123: UserWarning: `huggingface_hub` cache-system uses symlinks by default to efficiently store duplicated files but your machine does not support them in C:\\Users\\12599\\.cache\\huggingface\\hub. Caching files will still work but in a degraded version that might require more space on your disk. This warning can be disabled by setting the `HF_HUB_DISABLE_SYMLINKS_WARNING` environment variable. For more details, see https://huggingface.co/docs/huggingface_hub/how-to-cache#limitations.\n",
      "To support symlinks on Windows, you either need to activate Developer Mode or to run Python as an administrator. In order to see activate developer mode, see this article: https://docs.microsoft.com/en-us/windows/apps/get-started/enable-your-device-for-development\n",
      "  warnings.warn(message)\n",
      "Downloading: 100%|██████████| 10.7G/10.7G [11:13<00:00, 15.8MB/s] \n",
      "Downloading: 100%|██████████| 200/200 [00:00<?, ?B/s] \n",
      "Downloading: 100%|██████████| 798k/798k [00:00<00:00, 1.46MB/s]\n",
      "Downloading: 100%|██████████| 456k/456k [00:00<00:00, 1.11MB/s]\n",
      "Downloading: 100%|██████████| 90.0/90.0 [00:00<00:00, 30.2kB/s]\n"
     ]
    }
   ],
   "source": [
    "generator = pipeline('text-generation', model='EleutherAI/gpt-neo-2.7B')"
   ]
  },
  {
   "cell_type": "code",
   "execution_count": 19,
   "id": "a058e211-7f93-417f-8699-c3e36d24c0d6",
   "metadata": {},
   "outputs": [
    {
     "name": "stdout",
     "output_type": "stream",
     "text": [
      "The beautiful blue planet Krem is in sight. You can feel it, feel its pressure. It has only a couple of days left to become a star for the first time. It has to move very rapidly in the next few days. The astronomers tell me that I have to hurry. The planet is about to be born. The astronomers have promised me that they will not interfere with my work. The beautiful planet Krem is about to become a star.\n",
      "\n",
      "[Note that there is no doubt the astronomers are giving you bad news, but they make you think otherwise. They have no doubts about the planet becoming a star for the first time. They're just trying to show you the danger, so you'll pay attention. The planet in\n"
     ]
    }
   ],
   "source": []
  },
  {
   "cell_type": "code",
   "execution_count": 40,
   "id": "1df2eff7-988d-4d9f-bbdf-a09c02628173",
   "metadata": {},
   "outputs": [
    {
     "name": "stderr",
     "output_type": "stream",
     "text": [
      "Setting `pad_token_id` to `eos_token_id`:50256 for open-end generation.\n"
     ]
    }
   ],
   "source": [
    "prompt= \"Is this the real life? Is this just fantasy?\"\n",
    "res = generator(prompt, max_length=150, do_sample=True, temperature=0.9)"
   ]
  },
  {
   "cell_type": "code",
   "execution_count": 41,
   "id": "77a0168a-8402-466b-b081-7c7cb9a40dba",
   "metadata": {},
   "outputs": [
    {
     "name": "stdout",
     "output_type": "stream",
     "text": [
      "Is this the real life? Is this just fantasy? This is life in a fantasy world. This is where an aspiring writer finds himself. This is where a writer gets his first novel published.\n",
      "\n",
      "Monday, October 31, 2008\n",
      "\n",
      "I have never had a good relationship with my parents. They are the kind of people that when you have a pet they will not buy you a pet. They also were the kind of people that if you were a big time business student they would say you are too much of a risk.\n",
      "\n",
      "I was the kind of child that if you made fun of them they would call you a spoiled brat. This was the one time when I was really glad my parents didn’t have any children\n"
     ]
    }
   ],
   "source": [
    "print(res[0]['generated_text'])"
   ]
  },
  {
   "cell_type": "code",
   "execution_count": null,
   "id": "ae3df2ea-7182-48e5-a382-a2a3e8e7ecef",
   "metadata": {},
   "outputs": [],
   "source": []
  }
 ],
 "metadata": {
  "kernelspec": {
   "display_name": "Python 3 (ipykernel)",
   "language": "python",
   "name": "python3"
  },
  "language_info": {
   "codemirror_mode": {
    "name": "ipython",
    "version": 3
   },
   "file_extension": ".py",
   "mimetype": "text/x-python",
   "name": "python",
   "nbconvert_exporter": "python",
   "pygments_lexer": "ipython3",
   "version": "3.9.13"
  }
 },
 "nbformat": 4,
 "nbformat_minor": 5
}
